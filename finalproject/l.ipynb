{
 "cells": [
  {
   "cell_type": "code",
   "execution_count": 13,
   "id": "bd488a1f",
   "metadata": {},
   "outputs": [
    {
     "name": "stdout",
     "output_type": "stream",
     "text": [
      "📋 Sample Data:\n",
      "   defending  physic  overall  potential      work_rate\n",
      "0       38.0    65.0       93         93     Medium/Low\n",
      "1       35.0    77.0       92         92       High/Low\n",
      "2        NaN     NaN       91         93  Medium/Medium\n",
      "3       43.0    82.0       91         91    High/Medium\n",
      "4       36.0    59.0       91         91    High/Medium\n",
      "📊 Average Overall Rating by Preferred Foot:\n",
      "  preferred_foot    overall\n",
      "0           Left  66.337189\n",
      "1          Right  65.472591\n",
      "📊 Top 10 Positions by Average Overall Rating:\n",
      "  preferred_foot    overall\n",
      "0           Left  66.337189\n",
      "1          Right  65.472591\n",
      "\n",
      "📊 Averages:\n",
      "Average Age: 25.23\n",
      "Average Overall Rating: 65.68\n",
      "Average Potential: 71.09\n"
     ]
    }
   ],
   "source": [
    "import pandas as pd\n",
    "\n",
    "# Load dataset\n",
    "df = pd.read_csv('players_21.csv')\n",
    "\n",
    "# Show sample data and overall score\n",
    "print(\"📋 Sample Data:\")\n",
    "print(df[['defending', 'physic', 'overall', 'potential', 'work_rate']].head())\n",
    "\n",
    "# Print average age, overall, and potential\n",
    "avg_age = df['age'].mean()\n",
    "avg_overall = df['overall'].mean()\n",
    "avg_potential = df['potential'].mean()\n",
    "average_overall_by_foot = (\n",
    "    df.groupby('preferred_foot')['overall']\n",
    "    .mean()\n",
    "    .sort_values(ascending=False)\n",
    "    .reset_index()\n",
    ")\n",
    "\n",
    "print(\"📊 Average Overall Rating by Preferred Foot:\")\n",
    "print(average_overall_by_foot)\n",
    "\n",
    "# Calculate the top 10 positions by average overall rating\n",
    "top_positions = (\n",
    "    df.groupby('preferred_foot')['overall']\n",
    "    .mean()\n",
    "    .sort_values(ascending=False)\n",
    "    .head(10)\n",
    "    .reset_index()\n",
    ")\n",
    "\n",
    "print(\"📊 Top 10 Positions by Average Overall Rating:\")\n",
    "print(top_positions)\n",
    "\n",
    "print(f\"\\n📊 Averages:\")\n",
    "print(f\"Average Age: {avg_age:.2f}\")\n",
    "print(f\"Average Overall Rating: {avg_overall:.2f}\")\n",
    "print(f\"Average Potential: {avg_potential:.2f}\")\n",
    "\n"
   ]
  }
 ],
 "metadata": {
  "kernelspec": {
   "display_name": "venv",
   "language": "python",
   "name": "python3"
  },
  "language_info": {
   "codemirror_mode": {
    "name": "ipython",
    "version": 3
   },
   "file_extension": ".py",
   "mimetype": "text/x-python",
   "name": "python",
   "nbconvert_exporter": "python",
   "pygments_lexer": "ipython3",
   "version": "3.13.1"
  }
 },
 "nbformat": 4,
 "nbformat_minor": 5
}
