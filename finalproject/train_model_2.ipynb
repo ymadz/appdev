{
 "cells": [
  {
   "cell_type": "code",
   "execution_count": null,
   "id": "9a5eeb08",
   "metadata": {},
   "outputs": [
    {
     "name": "stdout",
     "output_type": "stream",
     "text": [
      "✅ R² Score: 0.9843\n",
      "📉 RMSE: 0.8559\n"
     ]
    }
   ],
   "source": [
    "import pandas as pd\n",
    "import numpy as np\n",
    "import pickle\n",
    "from math import sqrt\n",
    "\n",
    "from sklearn.model_selection import train_test_split\n",
    "from sklearn.metrics import mean_squared_error, r2_score\n",
    "from xgboost import XGBRegressor\n",
    "\n",
    "# Load dataset\n",
    "df = pd.read_csv('players_21.csv')\n",
    "\n",
    "# Drop unnecessary columns including economic & preference-related\n",
    "columns_to_drop = [\n",
    "    'sofifa_id', 'player_url', 'short_name', 'long_name', 'dob',\n",
    "    'club_name', 'league_name', 'team_position', 'team_jersey_number',\n",
    "    'loaned_from', 'joined', 'contract_valid_until',\n",
    "    'nation_position', 'nation_jersey_number',\n",
    "    'real_face', 'body_type', 'player_tags', 'player_traits',\n",
    "    'ls', 'st', 'rs', 'lw', 'lf', 'cf', 'rf', 'rw',\n",
    "    'lam', 'cam', 'ram', 'lm', 'lcm', 'cm', 'rcm', 'rm',\n",
    "    'lwb', 'ldm', 'cdm', 'rdm', 'rwb', 'lb', 'lcb', 'cb', 'rcb', 'rb',\n",
    "    'value_eur', 'wage_eur', 'release_clause_eur',  # economics\n",
    "    'preferred_foot', 'work_rate'  # preferences\n",
    "]\n",
    "df.drop(columns=columns_to_drop, axis=1, inplace=True)\n",
    "\n",
    "# Filter out goalkeepers\n",
    "df = df[df['player_positions'].notna()]\n",
    "df = df[~df['player_positions'].str.contains('GK')]\n",
    "\n",
    "# Drop 'player_positions' after filtering\n",
    "df.drop('player_positions', axis=1, inplace=True)\n",
    "\n",
    "# Fill missing values\n",
    "df.fillna(df.median(numeric_only=True), inplace=True)\n",
    "df.fillna(0, inplace=True)\n",
    "\n",
    "# Define features and target\n",
    "target = 'overall'\n",
    "X = df.drop(columns=[target])\n",
    "y = df[target]\n",
    "\n",
    "# Train/test split\n",
    "X_train, X_test, y_train, y_test = train_test_split(X, y, test_size=0.2, random_state=42)\n",
    "\n",
    "# Ensure numeric\n",
    "X_train = X_train.apply(pd.to_numeric, errors='coerce').fillna(0)\n",
    "X_test = X_test.apply(pd.to_numeric, errors='coerce').fillna(0)\n",
    "\n",
    "# Train model\n",
    "model = XGBRegressor(n_estimators=200, learning_rate=0.1, max_depth=6, random_state=42)\n",
    "model.fit(X_train, y_train)\n",
    "\n",
    "# Evaluate\n",
    "y_pred = model.predict(X_test)\n",
    "r2 = r2_score(y_test, y_pred)\n",
    "rmse = sqrt(mean_squared_error(y_test, y_pred))\n",
    "\n",
    "print(f\"✅ R² Score: {r2:.4f}\")\n",
    "print(f\"📉 RMSE: {rmse:.4f}\")\n",
    "\n",
    "# Save model\n",
    "with open('xgb_fifa21_model_trimmed.pkl', 'wb') as f:\n",
    "    pickle.dump(model, f)\n",
    "\n",
    "print(\"💾 Model saved as 'xgb_fifa21_model_trimmed.pkl'\")\n"
   ]
  }
 ],
 "metadata": {
  "kernelspec": {
   "display_name": "venv",
   "language": "python",
   "name": "python3"
  },
  "language_info": {
   "codemirror_mode": {
    "name": "ipython",
    "version": 3
   },
   "file_extension": ".py",
   "mimetype": "text/x-python",
   "name": "python",
   "nbconvert_exporter": "python",
   "pygments_lexer": "ipython3",
   "version": "3.13.1"
  }
 },
 "nbformat": 4,
 "nbformat_minor": 5
}
