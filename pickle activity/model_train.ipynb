{
 "cells": [
  {
   "cell_type": "code",
   "execution_count": 3,
   "id": "a4bb4322-a1c8-4b48-a3a1-5dd272f5843e",
   "metadata": {},
   "outputs": [
    {
     "name": "stdout",
     "output_type": "stream",
     "text": [
      "Defaulting to user installation because normal site-packages is not writeable\n",
      "Requirement already satisfied: xgboost in c:\\users\\madz\\appdata\\roaming\\python\\python312\\site-packages (3.0.0)\n",
      "Requirement already satisfied: numpy in c:\\programdata\\anaconda3\\lib\\site-packages (from xgboost) (1.26.4)\n",
      "Requirement already satisfied: scipy in c:\\programdata\\anaconda3\\lib\\site-packages (from xgboost) (1.13.1)\n",
      "RMSE: 0.64\n",
      "model saved as xgboost_fifa_model.pkl\n"
     ]
    }
   ],
   "source": [
    "!pip install xgboost\n",
    "\n",
    "import pandas as pd\n",
    "import xgboost as xgb\n",
    "from sklearn.model_selection import train_test_split\n",
    "from sklearn.metrics import mean_squared_error\n",
    "import pickle\n",
    "\n",
    "df = pd.read_csv(\"players_15.csv\")\n",
    "\n",
    "features = [\n",
    "    \"age\", \"height_cm\", \"weight_kg\", \"potential\", \"value_eur\", \"wage_eur\",\n",
    "    \"international_reputation\", \"weak_foot\", \"skill_moves\",\n",
    "    \"pace\", \"shooting\", \"passing\", \"dribbling\", \"defending\", \"physic\"\n",
    "]\n",
    "\n",
    "target = 'overall'\n",
    "\n",
    "X = df[features]\n",
    "y = df[target]\n",
    "\n",
    "X_train, X_test, y_train, y_test = train_test_split(X, y, test_size=0.2, random_state=42)\n",
    "\n",
    "model = xgb.XGBRegressor()\n",
    "model.fit(X_train, y_train)\n",
    "\n",
    "preds = model.predict(X_test)\n",
    "rmse = mean_squared_error(y_test, preds) ** 0.5\n",
    "\n",
    "print(f\"RMSE: {rmse:.2f}\")\n",
    "\n",
    "with open(\"xgboost_fifa_model.pkl\", \"wb\") as f:\n",
    "    pickle.dump(model, f)\n",
    "\n",
    "print(\"model saved as xgboost_fifa_model.pkl\")\n"
   ]
  }
 ],
 "metadata": {
  "kernelspec": {
   "display_name": "base",
   "language": "python",
   "name": "python3"
  },
  "language_info": {
   "codemirror_mode": {
    "name": "ipython",
    "version": 3
   },
   "file_extension": ".py",
   "mimetype": "text/x-python",
   "name": "python",
   "nbconvert_exporter": "python",
   "pygments_lexer": "ipython3",
   "version": "3.12.7"
  }
 },
 "nbformat": 4,
 "nbformat_minor": 5
}
