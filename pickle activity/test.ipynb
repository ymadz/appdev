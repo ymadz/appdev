{
 "cells": [
  {
   "cell_type": "code",
   "execution_count": 1,
   "id": "1f61cde3",
   "metadata": {},
   "outputs": [
    {
     "name": "stdout",
     "output_type": "stream",
     "text": [
      "Predicted Overall Rating: 83.05\n"
     ]
    }
   ],
   "source": [
    "import pickle\n",
    "import pandas as pd\n",
    "import numpy as np\n",
    "\n",
    "with open('xgboost_fifa_model.pkl', 'rb') as f:\n",
    "    model = pickle.load(f)\n",
    "\n",
    "sample_player = {\n",
    "    \"age\": 24,\n",
    "    \"height_cm\": 180,\n",
    "    \"weight_kg\": 75,\n",
    "    \"potential\": 85,\n",
    "    \"value_eur\": 30000000,\n",
    "    \"wage_eur\": 80000,\n",
    "    \"international_reputation\": 2,\n",
    "    \"weak_foot\": 4,\n",
    "    \"skill_moves\": 4,\n",
    "    \"pace\": 85,\n",
    "    \"shooting\": 78,\n",
    "    \"passing\": 82,\n",
    "    \"dribbling\": 84,\n",
    "    \"defending\": 60,\n",
    "    \"physic\": 76\n",
    "}\n",
    "\n",
    "sample_df = pd.DataFrame([sample_player])\n",
    "\n",
    "predicted_overall = model.predict(sample_df)\n",
    "print(f\"Predicted Overall Rating: {predicted_overall[0]:.2f}\")\n",
    "\n",
    "\n"
   ]
  }
 ],
 "metadata": {
  "kernelspec": {
   "display_name": "base",
   "language": "python",
   "name": "python3"
  },
  "language_info": {
   "codemirror_mode": {
    "name": "ipython",
    "version": 3
   },
   "file_extension": ".py",
   "mimetype": "text/x-python",
   "name": "python",
   "nbconvert_exporter": "python",
   "pygments_lexer": "ipython3",
   "version": "3.12.7"
  }
 },
 "nbformat": 4,
 "nbformat_minor": 5
}
